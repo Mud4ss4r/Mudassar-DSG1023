{
 "cells": [
  {
   "cell_type": "code",
   "execution_count": 23,
   "id": "a9189cb7",
   "metadata": {},
   "outputs": [],
   "source": [
    "# Name : Sayyed Mudassar Iqbal Shakil Ahmed\n",
    "# Batch : DSG1023 (weekends 4pm-6pm)\n",
    "# Subject : Surprise Coding Task\n"
   ]
  },
  {
   "cell_type": "code",
   "execution_count": null,
   "id": "d70543cd",
   "metadata": {},
   "outputs": [],
   "source": [
    "# Question : Write python code to calculate health premium.Your code must include \"function\".\n",
    "\n",
    "GENDER - male and female ONLY\n",
    "DATE OF BIRTH - year ONLY (no date and month).\n",
    "SMOKER - yes and no ONLY\n",
    "Premium criteria should be,\n",
    "\n",
    "1.For MALE born between 1990 - 2000 and if he is a smoker, print as \"Your annual premium is Rs 35000\" and for non-smoker apply discount 10% to 35000 and print final discounted price\n",
    "\n",
    "2.If born between 1970-1990 and smoker, premium is 40000 and for nonsmoker apply 5% discount to 40000 and print final price\n",
    "\n",
    "3.For FEMALE born between 1990 - 2000 and if she is a smoker, premium is Rs 30000 and for non-smoker apply discount 10% to 30000 and print final discounted price\n",
    "\n",
    "4.If born between 1970-1990 and smoker, premium is 35000 and for nonsmoker apply 5% discount to 35000 and print final pric"
   ]
  },
  {
   "cell_type": "code",
   "execution_count": 2,
   "id": "7073662f",
   "metadata": {},
   "outputs": [
    {
     "name": "stdout",
     "output_type": "stream",
     "text": [
      "Thank you for calculating premium with Mudassar's website :)\n",
      "Your annual premium is Rs 35000\n",
      "Your annual premium with 5% discount is Rs 38000.0\n"
     ]
    }
   ],
   "source": [
    "#Answer :\n",
    "\n",
    "def calculate_premium(gender, birth_year, smoker):\n",
    "\n",
    "    if gender == \"male\":\n",
    "        if 1990 <= birth_year <= 2000:\n",
    "            premium = 35000\n",
    "            if smoker == \"yes\":\n",
    "                print(\"Your annual premium is Rs\", premium)\n",
    "            elif smoker == \"no\":\n",
    "                discount = 0.10 * premium\n",
    "                discounted_premium = premium - discount\n",
    "                print(\"Your annual premium with 10% discount is Rs\", discounted_premium)\n",
    "        elif 1970 <= birth_year < 1990:\n",
    "            premium = 40000\n",
    "            if smoker == \"yes\":\n",
    "                print(\"Your annual premium is Rs\", premium)\n",
    "            elif smoker ==\"no\":\n",
    "                discount = 0.05 * premium\n",
    "                discounted_premium = premium - discount\n",
    "                print(\"Your annual premium with 5% discount is Rs\", discounted_premium)\n",
    "    \n",
    "    elif gender == \"female\":\n",
    "        if 1990 <= birth_year <= 2000:\n",
    "            premium = 30000\n",
    "            if smoker == \"yes\":\n",
    "                print(\"Your annual premium is Rs\", premium)\n",
    "            elif smoker == \"no\":\n",
    "                discount = 0.10 * premium\n",
    "                discounted_premium = premium - discount\n",
    "                print(\"Your annual premium with 10% discount is Rs\", discounted_premium)\n",
    "        elif 1970 <= birth_year < 1990:\n",
    "            premium = 35000\n",
    "            if smoker == \"yes\":\n",
    "                print(\"Your annual premium is Rs\", premium)\n",
    "            elif smoker == \"no\":\n",
    "                discount = 0.05 * premium\n",
    "                discounted_premium = premium - discount\n",
    "                print(f\"Your annual premium with 5% discount is Rs\", discounted_premium)\n",
    "\n",
    "print (\"Thank you for calculating premium with Mudassar's website :)\")\n",
    "       \n",
    "\n",
    "\n",
    "calculate_premium(\"female\", 1985, \"yes\")\n",
    "calculate_premium(\"male\", 1975, \"no\")\n",
    "\n"
   ]
  },
  {
   "cell_type": "code",
   "execution_count": null,
   "id": "907cfc9a",
   "metadata": {},
   "outputs": [],
   "source": []
  }
 ],
 "metadata": {
  "kernelspec": {
   "display_name": "Python 3 (ipykernel)",
   "language": "python",
   "name": "python3"
  },
  "language_info": {
   "codemirror_mode": {
    "name": "ipython",
    "version": 3
   },
   "file_extension": ".py",
   "mimetype": "text/x-python",
   "name": "python",
   "nbconvert_exporter": "python",
   "pygments_lexer": "ipython3",
   "version": "3.11.5"
  }
 },
 "nbformat": 4,
 "nbformat_minor": 5
}
